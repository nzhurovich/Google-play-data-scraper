{
  "nbformat": 4,
  "nbformat_minor": 0,
  "metadata": {
    "colab": {
      "name": "Google Play Parser",
      "provenance": []
    },
    "kernelspec": {
      "name": "python3",
      "display_name": "Python 3"
    }
  },
  "cells": [
    {
      "cell_type": "code",
      "metadata": {
        "id": "g0QrH8R-ubWO",
        "colab_type": "code",
        "colab": {}
      },
      "source": [
        "import pandas as pd\n",
        "from selenium import webdriver\n",
        "from bs4 import BeautifulSoup\n",
        "import lxml\n",
        "import re\n",
        "import urllib\n",
        "from xml.etree import ElementTree as ET"
      ],
      "execution_count": 0,
      "outputs": []
    },
    {
      "cell_type": "code",
      "metadata": {
        "id": "ZOOzVMZpugAc",
        "colab_type": "code",
        "outputId": "5ce383cd-4cb4-4ede-bbd7-9478d9683ae3",
        "colab": {
          "base_uri": "https://localhost:8080/",
          "height": 139
        }
      },
      "source": [
        "!pip install selenium"
      ],
      "execution_count": 0,
      "outputs": [
        {
          "output_type": "stream",
          "text": [
            "Collecting selenium\n",
            "\u001b[?25l  Downloading https://files.pythonhosted.org/packages/80/d6/4294f0b4bce4de0abf13e17190289f9d0613b0a44e5dd6a7f5ca98459853/selenium-3.141.0-py2.py3-none-any.whl (904kB)\n",
            "\u001b[K     |████████████████████████████████| 911kB 2.7MB/s \n",
            "\u001b[?25hRequirement already satisfied: urllib3 in /usr/local/lib/python3.6/dist-packages (from selenium) (1.24.3)\n",
            "Installing collected packages: selenium\n",
            "Successfully installed selenium-3.141.0\n"
          ],
          "name": "stdout"
        }
      ]
    },
    {
      "cell_type": "code",
      "metadata": {
        "id": "cP183i8hulUl",
        "colab_type": "code",
        "colab": {}
      },
      "source": [
        "#!pip install selenium\n",
        "#!apt-get update # to update ubuntu to correctly run apt install\n",
        "#!apt install chromium-chromedriver\n",
        "#!cp /usr/lib/chromium-browser/chromedriver /usr/bin\n",
        "import sys\n",
        "sys.path.insert(0,'/usr/lib/chromium-browser/chromedriver')\n",
        "from selenium import webdriver\n",
        "chrome_options = webdriver.ChromeOptions()\n",
        "chrome_options.add_argument('--headless')\n",
        "chrome_options.add_argument('--no-sandbox')\n",
        "chrome_options.add_argument('--disable-dev-shm-usage')\n"
      ],
      "execution_count": 0,
      "outputs": []
    },
    {
      "cell_type": "code",
      "metadata": {
        "id": "ooKkORIguzXq",
        "colab_type": "code",
        "outputId": "f3f575a4-69e5-4c5f-f6de-2bd7c9c03d83",
        "colab": {
          "base_uri": "https://localhost:8080/",
          "height": 51
        }
      },
      "source": [
        "wd = webdriver.Chrome('chromedriver',chrome_options=chrome_options)\n",
        "wd.get(\"https://play.google.com/store/search?q=%D0%B4%D0%BE%D1%81%D1%82%D0%B0%D0%B2%D0%BA%D0%B0%20%D0%B5%D0%B4%D1%8B&c=apps\")\n",
        "response = wd.execute_script('return document.documentElement.outerHTML')"
      ],
      "execution_count": 137,
      "outputs": [
        {
          "output_type": "stream",
          "text": [
            "/usr/local/lib/python3.6/dist-packages/ipykernel_launcher.py:1: DeprecationWarning: use options instead of chrome_options\n",
            "  \"\"\"Entry point for launching an IPython kernel.\n"
          ],
          "name": "stderr"
        }
      ]
    },
    {
      "cell_type": "code",
      "metadata": {
        "id": "cOsIqTdQvE-Y",
        "colab_type": "code",
        "colab": {}
      },
      "source": [
        "soup = BeautifulSoup(response, 'lxml')\n",
        "apps = soup.find_all('div', class_='WsMG1c nnK0zc')\n",
        "\n",
        "apps_list = []\n",
        "for app in apps:\n",
        "  apps_list.append(app.text)"
      ],
      "execution_count": 0,
      "outputs": []
    },
    {
      "cell_type": "code",
      "metadata": {
        "id": "OyIIZS_3v_JI",
        "colab_type": "code",
        "colab": {}
      },
      "source": [
        "apps_xml = soup.find_all('div', class_ = 'b8cIId ReQCgd Q9MA7b')"
      ],
      "execution_count": 0,
      "outputs": []
    },
    {
      "cell_type": "code",
      "metadata": {
        "id": "sOzTClk4yXtD",
        "colab_type": "code",
        "colab": {
          "base_uri": "https://localhost:8080/",
          "height": 51
        },
        "outputId": "e182d772-92c4-48bf-9e4b-aa8d2403108f"
      },
      "source": [
        "apps_list"
      ],
      "execution_count": 135,
      "outputs": [
        {
          "output_type": "execute_result",
          "data": {
            "text/plain": [
              "[<div class=\"WsMG1c nnK0zc\" title=\"Три самурая\">Три самурая</div>,\n",
              " <div class=\"WsMG1c nnK0zc\" title=\"Cook with REDMOND\">Cook with REDMOND</div>]"
            ]
          },
          "metadata": {
            "tags": []
          },
          "execution_count": 135
        }
      ]
    },
    {
      "cell_type": "code",
      "metadata": {
        "id": "HYNNBBZRaadS",
        "colab_type": "code",
        "outputId": "20fdcd1f-4c77-46ef-c2c1-46a59c98ed2b",
        "colab": {
          "base_uri": "https://localhost:8080/",
          "height": 34
        }
      },
      "source": [
        "print(ET.fromstring(f'{apps_xml[0]}').tag)"
      ],
      "execution_count": 0,
      "outputs": [
        {
          "output_type": "stream",
          "text": [
            "div\n"
          ],
          "name": "stdout"
        }
      ]
    },
    {
      "cell_type": "code",
      "metadata": {
        "id": "h6hxtDgQzrSb",
        "colab_type": "code",
        "colab": {}
      },
      "source": [
        "adresses = []\n",
        "for app in range(len(apps_xml)):\n",
        "  \n",
        "  adress = 'https://play.google.com'+ re.match('.+?\\\">', f'{apps_xml[app]}'[43:]).group(0)[:-2]\n",
        "  adresses.append(adress)"
      ],
      "execution_count": 0,
      "outputs": []
    },
    {
      "cell_type": "code",
      "metadata": {
        "id": "ejo9Rdxv0XU2",
        "colab_type": "code",
        "outputId": "6a00e276-d4fb-4c16-bced-ef54afa647b2",
        "colab": {
          "base_uri": "https://localhost:8080/",
          "height": 867
        }
      },
      "source": [
        "adresses"
      ],
      "execution_count": 102,
      "outputs": [
        {
          "output_type": "execute_result",
          "data": {
            "text/plain": [
              "['https://play.google.com/store/apps/details?id=com.deliveryclub',\n",
              " 'https://play.google.com/store/apps/details?id=ru.foodfox.client',\n",
              " 'https://play.google.com/store/apps/details?id=ru.sbcs.store',\n",
              " 'https://play.google.com/store/apps/details?id=kz.chocofood.chocofoodapp',\n",
              " 'https://play.google.com/store/apps/details?id=com.voltmobi.yakitoriya',\n",
              " 'https://play.google.com/store/apps/details?id=ua.raketa.app',\n",
              " 'https://play.google.com/store/apps/details?id=com.ubercab.eats',\n",
              " 'https://play.google.com/store/apps/details?id=ru.handh.igooods',\n",
              " 'https://play.google.com/store/apps/details?id=ru.dostaevsky.android',\n",
              " 'https://play.google.com/store/apps/details?id=ru.burgerking',\n",
              " 'https://play.google.com/store/apps/details?id=ru.handh.android.zakazaka',\n",
              " 'https://play.google.com/store/apps/details?id=com.glovo',\n",
              " 'https://play.google.com/store/apps/details?id=ru.perekrestok.app',\n",
              " 'https://play.google.com/store/apps/details?id=com.trinetix.eda',\n",
              " 'https://play.google.com/store/apps/details?id=com.delivery_shop_5ka24.delivery_shop_5ka',\n",
              " 'https://play.google.com/store/apps/details?id=ru.utkonos.android.utkonoid',\n",
              " 'https://play.google.com/store/apps/details?id=ru.foodfox.courier.debug.releaseserver',\n",
              " 'https://play.google.com/store/apps/details?id=com.uznewmax.theflash',\n",
              " 'https://play.google.com/store/apps/details?id=com.riselogic.dm.tokiny',\n",
              " 'https://play.google.com/store/apps/details?id=uz.bringo',\n",
              " 'https://play.google.com/store/apps/details?id=com.mobilemedia.tanuki',\n",
              " 'https://play.google.com/store/apps/details?id=com.wolt.android',\n",
              " 'https://play.google.com/store/apps/details?id=ru.farfor',\n",
              " 'https://play.google.com/store/apps/details?id=ru.vkusvill',\n",
              " 'https://play.google.com/store/apps/details?id=ru.ykt.eda',\n",
              " 'https://play.google.com/store/apps/details?id=ru.dvaberega',\n",
              " 'https://play.google.com/store/apps/details?id=com.smilefood',\n",
              " 'https://play.google.com/store/apps/details?id=com.deliveroo.orderapp',\n",
              " 'https://play.google.com/store/apps/details?id=uz.vektor.onlinetaom',\n",
              " 'https://play.google.com/store/apps/details?id=com.fidele.app',\n",
              " 'https://play.google.com/store/apps/details?id=com.pizzafabrika.android',\n",
              " 'https://play.google.com/store/apps/details?id=ua.menu.app',\n",
              " 'https://play.google.com/store/apps/details?id=kz.samuraisushi.app',\n",
              " 'https://play.google.com/store/apps/details?id=ua.com.coxo.dominos',\n",
              " 'https://play.google.com/store/apps/details?id=com.mcdonalds.mobileapp',\n",
              " 'https://play.google.com/store/apps/details?id=by.menu.app',\n",
              " 'https://play.google.com/store/apps/details?id=com.gp.bikedriving.homedelivery.boysimulator',\n",
              " 'https://play.google.com/store/apps/details?id=com.gp.pizzadelivery.atvbikedriving.deliveryboysimulator',\n",
              " 'https://play.google.com/store/apps/details?id=com.lovesushipizza',\n",
              " 'https://play.google.com/store/apps/details?id=com.gp.deliveryboy.goodpizza.vandelivery.pizzagames',\n",
              " 'https://play.google.com/store/apps/details?id=im.ringl.delivio.food',\n",
              " 'https://play.google.com/store/apps/details?id=kz.akzh.akmart.foodEXPRESS',\n",
              " 'https://play.google.com/store/apps/details?id=com.yourdelivery.pyszne',\n",
              " 'https://play.google.com/store/apps/details?id=ru.foodday.app',\n",
              " 'https://play.google.com/store/apps/details?id=com.bolt.deliveryclient',\n",
              " 'https://play.google.com/store/apps/details?id=com.freakingfreegames.pizza.delivery.girl.food.game',\n",
              " 'https://play.google.com/store/apps/details?id=pro.aeroapps.trisamuraya',\n",
              " 'https://play.google.com/store/apps/details?id=com.postmates.android',\n",
              " 'https://play.google.com/store/apps/details?id=ru.reksoft.okey',\n",
              " 'https://play.google.com/store/apps/details?id=ru.inmixed.as']"
            ]
          },
          "metadata": {
            "tags": []
          },
          "execution_count": 102
        }
      ]
    },
    {
      "cell_type": "code",
      "metadata": {
        "id": "eWmuD6z22Wpf",
        "colab_type": "code",
        "outputId": "272f1b73-86b1-4fbe-cfa3-851dea5d38eb",
        "colab": {
          "base_uri": "https://localhost:8080/",
          "height": 1000
        }
      },
      "source": [
        "email_list = []\n",
        "for adress in adresses:\n",
        "  email = []\n",
        "  wd = webdriver.Chrome('chromedriver',chrome_options=chrome_options)\n",
        "  wd.get(adress)\n",
        "  response = wd.execute_script('return document.documentElement.outerHTML')\n",
        "  soup = BeautifulSoup(response, 'lxml')\n",
        "  for link in soup.find_all('a', attrs={'href': re.compile(\"@\")}):\n",
        "      email.append(link.get('href'))\n",
        "  email_list.append(email)"
      ],
      "execution_count": 108,
      "outputs": [
        {
          "output_type": "stream",
          "text": [
            "/usr/local/lib/python3.6/dist-packages/ipykernel_launcher.py:4: DeprecationWarning: use options instead of chrome_options\n",
            "  after removing the cwd from sys.path.\n",
            "/usr/local/lib/python3.6/dist-packages/ipykernel_launcher.py:4: DeprecationWarning: use options instead of chrome_options\n",
            "  after removing the cwd from sys.path.\n",
            "/usr/local/lib/python3.6/dist-packages/ipykernel_launcher.py:4: DeprecationWarning: use options instead of chrome_options\n",
            "  after removing the cwd from sys.path.\n",
            "/usr/local/lib/python3.6/dist-packages/ipykernel_launcher.py:4: DeprecationWarning: use options instead of chrome_options\n",
            "  after removing the cwd from sys.path.\n",
            "/usr/local/lib/python3.6/dist-packages/ipykernel_launcher.py:4: DeprecationWarning: use options instead of chrome_options\n",
            "  after removing the cwd from sys.path.\n",
            "/usr/local/lib/python3.6/dist-packages/ipykernel_launcher.py:4: DeprecationWarning: use options instead of chrome_options\n",
            "  after removing the cwd from sys.path.\n",
            "/usr/local/lib/python3.6/dist-packages/ipykernel_launcher.py:4: DeprecationWarning: use options instead of chrome_options\n",
            "  after removing the cwd from sys.path.\n",
            "/usr/local/lib/python3.6/dist-packages/ipykernel_launcher.py:4: DeprecationWarning: use options instead of chrome_options\n",
            "  after removing the cwd from sys.path.\n",
            "/usr/local/lib/python3.6/dist-packages/ipykernel_launcher.py:4: DeprecationWarning: use options instead of chrome_options\n",
            "  after removing the cwd from sys.path.\n",
            "/usr/local/lib/python3.6/dist-packages/ipykernel_launcher.py:4: DeprecationWarning: use options instead of chrome_options\n",
            "  after removing the cwd from sys.path.\n",
            "/usr/local/lib/python3.6/dist-packages/ipykernel_launcher.py:4: DeprecationWarning: use options instead of chrome_options\n",
            "  after removing the cwd from sys.path.\n",
            "/usr/local/lib/python3.6/dist-packages/ipykernel_launcher.py:4: DeprecationWarning: use options instead of chrome_options\n",
            "  after removing the cwd from sys.path.\n",
            "/usr/local/lib/python3.6/dist-packages/ipykernel_launcher.py:4: DeprecationWarning: use options instead of chrome_options\n",
            "  after removing the cwd from sys.path.\n",
            "/usr/local/lib/python3.6/dist-packages/ipykernel_launcher.py:4: DeprecationWarning: use options instead of chrome_options\n",
            "  after removing the cwd from sys.path.\n",
            "/usr/local/lib/python3.6/dist-packages/ipykernel_launcher.py:4: DeprecationWarning: use options instead of chrome_options\n",
            "  after removing the cwd from sys.path.\n",
            "/usr/local/lib/python3.6/dist-packages/ipykernel_launcher.py:4: DeprecationWarning: use options instead of chrome_options\n",
            "  after removing the cwd from sys.path.\n",
            "/usr/local/lib/python3.6/dist-packages/ipykernel_launcher.py:4: DeprecationWarning: use options instead of chrome_options\n",
            "  after removing the cwd from sys.path.\n",
            "/usr/local/lib/python3.6/dist-packages/ipykernel_launcher.py:4: DeprecationWarning: use options instead of chrome_options\n",
            "  after removing the cwd from sys.path.\n",
            "/usr/local/lib/python3.6/dist-packages/ipykernel_launcher.py:4: DeprecationWarning: use options instead of chrome_options\n",
            "  after removing the cwd from sys.path.\n",
            "/usr/local/lib/python3.6/dist-packages/ipykernel_launcher.py:4: DeprecationWarning: use options instead of chrome_options\n",
            "  after removing the cwd from sys.path.\n",
            "/usr/local/lib/python3.6/dist-packages/ipykernel_launcher.py:4: DeprecationWarning: use options instead of chrome_options\n",
            "  after removing the cwd from sys.path.\n",
            "/usr/local/lib/python3.6/dist-packages/ipykernel_launcher.py:4: DeprecationWarning: use options instead of chrome_options\n",
            "  after removing the cwd from sys.path.\n",
            "/usr/local/lib/python3.6/dist-packages/ipykernel_launcher.py:4: DeprecationWarning: use options instead of chrome_options\n",
            "  after removing the cwd from sys.path.\n",
            "/usr/local/lib/python3.6/dist-packages/ipykernel_launcher.py:4: DeprecationWarning: use options instead of chrome_options\n",
            "  after removing the cwd from sys.path.\n",
            "/usr/local/lib/python3.6/dist-packages/ipykernel_launcher.py:4: DeprecationWarning: use options instead of chrome_options\n",
            "  after removing the cwd from sys.path.\n",
            "/usr/local/lib/python3.6/dist-packages/ipykernel_launcher.py:4: DeprecationWarning: use options instead of chrome_options\n",
            "  after removing the cwd from sys.path.\n",
            "/usr/local/lib/python3.6/dist-packages/ipykernel_launcher.py:4: DeprecationWarning: use options instead of chrome_options\n",
            "  after removing the cwd from sys.path.\n",
            "/usr/local/lib/python3.6/dist-packages/ipykernel_launcher.py:4: DeprecationWarning: use options instead of chrome_options\n",
            "  after removing the cwd from sys.path.\n",
            "/usr/local/lib/python3.6/dist-packages/ipykernel_launcher.py:4: DeprecationWarning: use options instead of chrome_options\n",
            "  after removing the cwd from sys.path.\n",
            "/usr/local/lib/python3.6/dist-packages/ipykernel_launcher.py:4: DeprecationWarning: use options instead of chrome_options\n",
            "  after removing the cwd from sys.path.\n",
            "/usr/local/lib/python3.6/dist-packages/ipykernel_launcher.py:4: DeprecationWarning: use options instead of chrome_options\n",
            "  after removing the cwd from sys.path.\n",
            "/usr/local/lib/python3.6/dist-packages/ipykernel_launcher.py:4: DeprecationWarning: use options instead of chrome_options\n",
            "  after removing the cwd from sys.path.\n",
            "/usr/local/lib/python3.6/dist-packages/ipykernel_launcher.py:4: DeprecationWarning: use options instead of chrome_options\n",
            "  after removing the cwd from sys.path.\n",
            "/usr/local/lib/python3.6/dist-packages/ipykernel_launcher.py:4: DeprecationWarning: use options instead of chrome_options\n",
            "  after removing the cwd from sys.path.\n",
            "/usr/local/lib/python3.6/dist-packages/ipykernel_launcher.py:4: DeprecationWarning: use options instead of chrome_options\n",
            "  after removing the cwd from sys.path.\n",
            "/usr/local/lib/python3.6/dist-packages/ipykernel_launcher.py:4: DeprecationWarning: use options instead of chrome_options\n",
            "  after removing the cwd from sys.path.\n",
            "/usr/local/lib/python3.6/dist-packages/ipykernel_launcher.py:4: DeprecationWarning: use options instead of chrome_options\n",
            "  after removing the cwd from sys.path.\n",
            "/usr/local/lib/python3.6/dist-packages/ipykernel_launcher.py:4: DeprecationWarning: use options instead of chrome_options\n",
            "  after removing the cwd from sys.path.\n",
            "/usr/local/lib/python3.6/dist-packages/ipykernel_launcher.py:4: DeprecationWarning: use options instead of chrome_options\n",
            "  after removing the cwd from sys.path.\n",
            "/usr/local/lib/python3.6/dist-packages/ipykernel_launcher.py:4: DeprecationWarning: use options instead of chrome_options\n",
            "  after removing the cwd from sys.path.\n",
            "/usr/local/lib/python3.6/dist-packages/ipykernel_launcher.py:4: DeprecationWarning: use options instead of chrome_options\n",
            "  after removing the cwd from sys.path.\n",
            "/usr/local/lib/python3.6/dist-packages/ipykernel_launcher.py:4: DeprecationWarning: use options instead of chrome_options\n",
            "  after removing the cwd from sys.path.\n",
            "/usr/local/lib/python3.6/dist-packages/ipykernel_launcher.py:4: DeprecationWarning: use options instead of chrome_options\n",
            "  after removing the cwd from sys.path.\n",
            "/usr/local/lib/python3.6/dist-packages/ipykernel_launcher.py:4: DeprecationWarning: use options instead of chrome_options\n",
            "  after removing the cwd from sys.path.\n",
            "/usr/local/lib/python3.6/dist-packages/ipykernel_launcher.py:4: DeprecationWarning: use options instead of chrome_options\n",
            "  after removing the cwd from sys.path.\n",
            "/usr/local/lib/python3.6/dist-packages/ipykernel_launcher.py:4: DeprecationWarning: use options instead of chrome_options\n",
            "  after removing the cwd from sys.path.\n",
            "/usr/local/lib/python3.6/dist-packages/ipykernel_launcher.py:4: DeprecationWarning: use options instead of chrome_options\n",
            "  after removing the cwd from sys.path.\n",
            "/usr/local/lib/python3.6/dist-packages/ipykernel_launcher.py:4: DeprecationWarning: use options instead of chrome_options\n",
            "  after removing the cwd from sys.path.\n",
            "/usr/local/lib/python3.6/dist-packages/ipykernel_launcher.py:4: DeprecationWarning: use options instead of chrome_options\n",
            "  after removing the cwd from sys.path.\n",
            "/usr/local/lib/python3.6/dist-packages/ipykernel_launcher.py:4: DeprecationWarning: use options instead of chrome_options\n",
            "  after removing the cwd from sys.path.\n"
          ],
          "name": "stderr"
        }
      ]
    },
    {
      "cell_type": "code",
      "metadata": {
        "id": "t7b7_oti2c5U",
        "colab_type": "code",
        "colab": {}
      },
      "source": [
        "soup = BeautifulSoup(response, 'lxml')\n",
        "mails = soup.find_all('div', class_='hrTbp euBY6b')\n"
      ],
      "execution_count": 0,
      "outputs": []
    },
    {
      "cell_type": "code",
      "metadata": {
        "id": "0tK9CUjy5PdE",
        "colab_type": "code",
        "outputId": "5ef128bc-3d17-4578-f9db-241c579c175c",
        "colab": {
          "base_uri": "https://localhost:8080/",
          "height": 34
        }
      },
      "source": [
        "soup = BeautifulSoup(response, 'lxml')\n",
        "for link in soup.find_all('a', attrs={'href': re.compile(\"@\")}):\n",
        "    print(link.get('href'))"
      ],
      "execution_count": 107,
      "outputs": [
        {
          "output_type": "stream",
          "text": [
            "mailto:help@delivery-club.ru\n"
          ],
          "name": "stdout"
        }
      ]
    },
    {
      "cell_type": "code",
      "metadata": {
        "id": "9HEq2it96Uj2",
        "colab_type": "code",
        "colab": {}
      },
      "source": [
        "total_cis = []\n",
        "for i in range(len(apps)):\n",
        "  total_cis.append([apps_list[i], adresses[i], email_list[i][0]])"
      ],
      "execution_count": 0,
      "outputs": []
    },
    {
      "cell_type": "code",
      "metadata": {
        "id": "0NATVI1o-As6",
        "colab_type": "code",
        "colab": {}
      },
      "source": [
        "cis_gp = pd.DataFrame(total_cis, columns=['App_name', 'ÚRL', 'email'])\n",
        "\n",
        "\n",
        "cis_gp.to_excel('CIS GooglePlay Data.xls')"
      ],
      "execution_count": 0,
      "outputs": []
    },
    {
      "cell_type": "code",
      "metadata": {
        "id": "FL2AQWPiDigs",
        "colab_type": "code",
        "colab": {}
      },
      "source": [
        ""
      ],
      "execution_count": 0,
      "outputs": []
    }
  ]
}